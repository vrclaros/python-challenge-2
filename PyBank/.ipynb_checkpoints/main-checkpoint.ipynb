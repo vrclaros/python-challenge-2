{
 "cells": [
  {
   "cell_type": "code",
   "execution_count": 29,
   "metadata": {},
   "outputs": [],
   "source": [
    "import os\n",
    "import csv"
   ]
  },
  {
   "cell_type": "code",
   "execution_count": 50,
   "metadata": {},
   "outputs": [],
   "source": [
    "csvpath = os.path.join('./', 'Resources','budget_data.csv')"
   ]
  },
  {
   "cell_type": "code",
   "execution_count": 272,
   "metadata": {},
   "outputs": [
    {
     "name": "stdout",
     "output_type": "stream",
     "text": [
      "Financial Analysis\n",
      "----------------------------\n",
      "Total Months: 86\n",
      "Total :$ 38382578\n",
      "Average Change: $ -2315.12\n",
      "Greatest Increase in Profits:  Feb-2012 ($ 1926159 )\n",
      "Greatest Decrease in Profits:  Sep-2013 ($ -2196167 )\n"
     ]
    }
   ],
   "source": [
    "with open(csvpath) as csvfile:\n",
    "    csvreader = csv.reader(csvfile, delimiter=',')\n",
    "    \n",
    "    #print(csvreader)\n",
    "    csv_header = next(csvreader)\n",
    "    #print(f\"CSV Header: {csv_header}\")\n",
    "\n",
    "#Print Tiles\n",
    "    print('Financial Analysis')\n",
    "    print(\"----------------------------\")\n",
    "\n",
    "#Total number of months in dataset\n",
    "    num_rows = 0\n",
    "    totalBudget = 0\n",
    "    list_Budget=[]\n",
    "    list_Dates=[]\n",
    "    \n",
    "    for row in csvreader:\n",
    "        #Total number of months in dataset\n",
    "        num_rows += 1\n",
    "        \n",
    "        #Sum of Profit/Loss\n",
    "        totalBudget += int(row[1])\n",
    "        \n",
    "        #input values in lists\n",
    "        date , budget = row\n",
    "        list_Budget.append(budget)\n",
    "        list_Dates.append(date)\n",
    "    \n",
    "    print(\"Total Months:\",num_rows)\n",
    "    print(\"Total :$\", totalBudget)\n",
    "    \n",
    "#Change list_Budget from strings to int\n",
    "list_Budget=[int(i) for i in list_Budget]\n",
    "\n",
    "#find last row of list_Budget\n",
    "last_row = len (list_Budget)\n",
    "\n",
    "#initialize variables and list_Budget_Change\n",
    "differenceBudget=0\n",
    "list_Budget_Changes=[]\n",
    "initial_value = 0\n",
    "ending_value = 0\n",
    "\n",
    "for row in range(0, len (list_Budget)):\n",
    "        if row < (last_row-1):\n",
    "            initial_value = list_Budget[row]\n",
    "            ending_value = list_Budget[row+1]\n",
    "            differenceBudget= ending_value - initial_value\n",
    "            list_Budget_Changes.append(differenceBudget)\n",
    "\n",
    "#Calculate sum of changes and Average Change\n",
    "sum_Budget_Changes = sum(list_Budget_Changes)\n",
    "avg_Change = round(sum_Budget_Changes/(num_rows-1),2)\n",
    "print(\"Average Change: $\", avg_Change)\n",
    "\n",
    "#Find index of max Increase and min Decrease\n",
    "#Adding +1 to account for logic used to find the index that change happens from one month to another\n",
    "index_max = list_Budget_Changes.index(max(list_Budget_Changes))+1\n",
    "index_min = list_Budget_Changes.index(min(list_Budget_Changes))+1\n",
    "\n",
    "#Print results of greatest increase and decrease\n",
    "print(\"Greatest Increase in Profits: \", list_Dates[index_max], \"($\", max(list_Budget_Changes),\")\")\n",
    "print(\"Greatest Decrease in Profits: \", list_Dates[index_min], \"($\",min(list_Budget_Changes),\")\")\n",
    "\n",
    "#-----------------------------------------------------------------------\n",
    "#Export file with the result\n",
    "output_path = os.path.join('./', 'Resources','Results_Bank.txt')\n",
    "\n",
    "# Open the file using \"write\" mode. Specify the variable to hold the contents\n",
    "with open(output_path, 'w') as output:\n",
    "    \n",
    "    output.write('Financial Analysis\\n')\n",
    "    output.write('----------------------------\\n')\n",
    "    output.write('Total Months: ' + str(num_rows) + '\\n')\n",
    "    output.write('Total: $' + str(totalBudget) + '\\n')\n",
    "    output.write('Average Change: $' + str(avg_Change) + '\\n')\n",
    "    output.write(\"Greatest Increase in Profits: \" + str(list_Dates[index_max]) + \" ($\" + str(max(list_Budget_Changes)) + \")\\n\")\n",
    "    output.write(\"Greatest Decrease in Profits: \" + str(list_Dates[index_min]) + \" ($\" + str(min(list_Budget_Changes)) + \")\\n\")\n"
   ]
  },
  {
   "cell_type": "code",
   "execution_count": null,
   "metadata": {},
   "outputs": [],
   "source": []
  }
 ],
 "metadata": {
  "kernelspec": {
   "display_name": "Python 3",
   "language": "python",
   "name": "python3"
  },
  "language_info": {
   "codemirror_mode": {
    "name": "ipython",
    "version": 3
   },
   "file_extension": ".py",
   "mimetype": "text/x-python",
   "name": "python",
   "nbconvert_exporter": "python",
   "pygments_lexer": "ipython3",
   "version": "3.8.3"
  }
 },
 "nbformat": 4,
 "nbformat_minor": 4
}
